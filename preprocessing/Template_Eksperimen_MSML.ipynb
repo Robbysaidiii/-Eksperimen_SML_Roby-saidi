{
  "nbformat": 4,
  "nbformat_minor": 0,
  "metadata": {
    "colab": {
      "provenance": [],
      "gpuType": "T4"
    },
    "kernelspec": {
      "name": "python3",
      "display_name": "Python 3"
    },
    "language_info": {
      "name": "python"
    },
    "accelerator": "GPU"
  },
  "cells": [
    {
      "cell_type": "markdown",
      "source": [
        "# **1. Perkenalan Dataset**\n"
      ],
      "metadata": {
        "id": "kZLRMFl0JyyQ"
      }
    },
    {
      "cell_type": "markdown",
      "source": [
        "Tahap pertama, Anda harus mencari dan menggunakan dataset dengan ketentuan sebagai berikut:\n",
        "\n",
        "1. **Sumber Dataset**:  \n",
        "   Dataset dapat diperoleh dari berbagai sumber, seperti public repositories (*Kaggle*, *UCI ML Repository*, *Open Data*) atau data primer yang Anda kumpulkan sendiri.\n",
        "\n",
        "   sumber dataset https://www.kaggle.com/code/thedataman123/ai-data-jobs-usa-ml\n"
      ],
      "metadata": {
        "id": "hssSDn-5n3HR"
      }
    },
    {
      "cell_type": "markdown",
      "source": [
        "# **2. Import Library**"
      ],
      "metadata": {
        "id": "fKADPWcFKlj3"
      }
    },
    {
      "cell_type": "markdown",
      "source": [
        "Pada tahap ini, Anda perlu mengimpor beberapa pustaka (library) Python yang dibutuhkan untuk analisis data dan pembangunan model machine learning atau deep learning."
      ],
      "metadata": {
        "id": "LgA3ERnVn84N"
      }
    },
    {
      "cell_type": "code",
      "source": [
        "#Type your code here\n",
        "import numpy as np\n",
        "import pandas as pd\n",
        "import pandas as pd\n",
        "import numpy as np\n",
        "import matplotlib.pyplot as plt\n",
        "import seaborn as sns\n",
        "import re\n",
        "from sklearn.preprocessing import MinMaxScaler, StandardScaler\n",
        "from scipy.stats import zscore\n",
        "from sklearn.model_selection import train_test_split"
      ],
      "metadata": {
        "id": "BlmvjLY9M4Yj"
      },
      "execution_count": 1,
      "outputs": []
    },
    {
      "cell_type": "markdown",
      "source": [
        "# **3. Memuat Dataset**"
      ],
      "metadata": {
        "id": "f3YIEnAFKrKL"
      }
    },
    {
      "cell_type": "markdown",
      "source": [
        "Pada tahap ini, Anda perlu memuat dataset ke dalam notebook. Jika dataset dalam format CSV, Anda bisa menggunakan pustaka pandas untuk membacanya. Pastikan untuk mengecek beberapa baris awal dataset untuk memahami strukturnya dan memastikan data telah dimuat dengan benar.\n",
        "\n",
        "Jika dataset berada di Google Drive, pastikan Anda menghubungkan Google Drive ke Colab terlebih dahulu. Setelah dataset berhasil dimuat, langkah berikutnya adalah memeriksa kesesuaian data dan siap untuk dianalisis lebih lanjut.\n",
        "\n",
        "Jika dataset berupa unstructured data, silakan sesuaikan dengan format seperti kelas Machine Learning Pengembangan atau Machine Learning Terapan"
      ],
      "metadata": {
        "id": "Ey3ItwTen_7E"
      }
    },
    {
      "cell_type": "code",
      "source": [
        "#Type your code here\n",
        "from google.colab import drive\n",
        "drive.mount('/content/drive')\n",
        "\n",
        "# Memuat dataset dari Google Drive\n",
        "file_path = \"/content/drive/MyDrive/Road Traffic Accident Data – United Kingdom/jobs_dataset.csv\"\n",
        "df = pd.read_csv(file_path)\n",
        "\n",
        "# Menampilkan 5 baris pertama\n",
        "df.head()"
      ],
      "metadata": {
        "id": "GHCGNTyrM5fS",
        "colab": {
          "base_uri": "https://localhost:8080/",
          "height": 556
        },
        "outputId": "1d75e1d5-81c7-4b46-d4ee-e147bd2f1f69"
      },
      "execution_count": 2,
      "outputs": [
        {
          "output_type": "stream",
          "name": "stdout",
          "text": [
            "Mounted at /content/drive\n"
          ]
        },
        {
          "output_type": "execute_result",
          "data": {
            "text/plain": [
              "           company  rating             location  \\\n",
              "0           Google     4.3        San Bruno, CA   \n",
              "1           BAXTER     3.7  Milwaukee, WI 53214   \n",
              "2             Meta     4.2          Redmond, WA   \n",
              "3             Meta     4.2   Bellevue, WA 98005   \n",
              "4  Lockheed Martin     4.0    Shelton, CT 06484   \n",
              "\n",
              "                                        positionName  \\\n",
              "0    Senior Data Scientist, Research, YouTube Search   \n",
              "1                Senior AI Engineer - Data Scientist   \n",
              "2         Audio Software Engineer, Applied Scientist   \n",
              "3                Software Engineer, Machine Learning   \n",
              "4  AI / Machine Learning Research Engineer (early...   \n",
              "\n",
              "                                         description  \\\n",
              "0  Note: By applying to this position you will ha...   \n",
              "1  This is where you save and sustain lives\\n\\nAt...   \n",
              "2  Redmond, WA • + 2 more•Full Time\\nMessenger\\nM...   \n",
              "3  Bellevue, WA • Full Time\\nMeta\\nSoftware Engin...   \n",
              "4  Job ID: 694362BR\\nDate posted: May. 22, 2025\\n...   \n",
              "\n",
              "                       salary  \\\n",
              "0  $166,000 - $244,000 a year   \n",
              "1  $112,000 - $154,000 a year   \n",
              "2              $70.67 an hour   \n",
              "3  $203,350 - $240,240 a year   \n",
              "4                         NaN   \n",
              "\n",
              "                                                 url  jobType/0 jobType/1  \\\n",
              "0  https://www.indeed.com/viewjob?jk=3129ec5dde24...  Full-time       NaN   \n",
              "1  https://www.indeed.com/viewjob?jk=19da1b85455c...  Full-time       NaN   \n",
              "2  https://www.indeed.com/viewjob?jk=0b0b432e2a51...  Full-time       NaN   \n",
              "3  https://www.indeed.com/viewjob?jk=08d2ef77c976...  Full-time       NaN   \n",
              "4  https://www.indeed.com/viewjob?jk=e9aad7dcc34e...  Full-time       NaN   \n",
              "\n",
              "  jobType/2 jobType/3 searchInput/country searchInput/position  \\\n",
              "0       NaN       NaN                  US       Data Scientist   \n",
              "1       NaN       NaN                  US       Data Scientist   \n",
              "2       NaN       NaN                  US       Data Scientist   \n",
              "3       NaN       NaN                  US       Data Scientist   \n",
              "4       NaN       NaN                  US       Data Scientist   \n",
              "\n",
              "                                   externalApplyLink  \n",
              "0  https://www.google.com/about/careers/applicati...  \n",
              "1  https://jobs.baxter.com/en/job/-/-/152/8298788...  \n",
              "2  https://www.metacareers.com/jobs/3101204833367...  \n",
              "3  https://www.metacareers.com/jobs/1096352489054...  \n",
              "4  https://click.appcast.io/t/V35efAz0-l7FWwo6IKe...  "
            ],
            "text/html": [
              "\n",
              "  <div id=\"df-cbebb5dc-01a2-4e7b-9823-c8c6b95c2d20\" class=\"colab-df-container\">\n",
              "    <div>\n",
              "<style scoped>\n",
              "    .dataframe tbody tr th:only-of-type {\n",
              "        vertical-align: middle;\n",
              "    }\n",
              "\n",
              "    .dataframe tbody tr th {\n",
              "        vertical-align: top;\n",
              "    }\n",
              "\n",
              "    .dataframe thead th {\n",
              "        text-align: right;\n",
              "    }\n",
              "</style>\n",
              "<table border=\"1\" class=\"dataframe\">\n",
              "  <thead>\n",
              "    <tr style=\"text-align: right;\">\n",
              "      <th></th>\n",
              "      <th>company</th>\n",
              "      <th>rating</th>\n",
              "      <th>location</th>\n",
              "      <th>positionName</th>\n",
              "      <th>description</th>\n",
              "      <th>salary</th>\n",
              "      <th>url</th>\n",
              "      <th>jobType/0</th>\n",
              "      <th>jobType/1</th>\n",
              "      <th>jobType/2</th>\n",
              "      <th>jobType/3</th>\n",
              "      <th>searchInput/country</th>\n",
              "      <th>searchInput/position</th>\n",
              "      <th>externalApplyLink</th>\n",
              "    </tr>\n",
              "  </thead>\n",
              "  <tbody>\n",
              "    <tr>\n",
              "      <th>0</th>\n",
              "      <td>Google</td>\n",
              "      <td>4.3</td>\n",
              "      <td>San Bruno, CA</td>\n",
              "      <td>Senior Data Scientist, Research, YouTube Search</td>\n",
              "      <td>Note: By applying to this position you will ha...</td>\n",
              "      <td>$166,000 - $244,000 a year</td>\n",
              "      <td>https://www.indeed.com/viewjob?jk=3129ec5dde24...</td>\n",
              "      <td>Full-time</td>\n",
              "      <td>NaN</td>\n",
              "      <td>NaN</td>\n",
              "      <td>NaN</td>\n",
              "      <td>US</td>\n",
              "      <td>Data Scientist</td>\n",
              "      <td>https://www.google.com/about/careers/applicati...</td>\n",
              "    </tr>\n",
              "    <tr>\n",
              "      <th>1</th>\n",
              "      <td>BAXTER</td>\n",
              "      <td>3.7</td>\n",
              "      <td>Milwaukee, WI 53214</td>\n",
              "      <td>Senior AI Engineer - Data Scientist</td>\n",
              "      <td>This is where you save and sustain lives\\n\\nAt...</td>\n",
              "      <td>$112,000 - $154,000 a year</td>\n",
              "      <td>https://www.indeed.com/viewjob?jk=19da1b85455c...</td>\n",
              "      <td>Full-time</td>\n",
              "      <td>NaN</td>\n",
              "      <td>NaN</td>\n",
              "      <td>NaN</td>\n",
              "      <td>US</td>\n",
              "      <td>Data Scientist</td>\n",
              "      <td>https://jobs.baxter.com/en/job/-/-/152/8298788...</td>\n",
              "    </tr>\n",
              "    <tr>\n",
              "      <th>2</th>\n",
              "      <td>Meta</td>\n",
              "      <td>4.2</td>\n",
              "      <td>Redmond, WA</td>\n",
              "      <td>Audio Software Engineer, Applied Scientist</td>\n",
              "      <td>Redmond, WA • + 2 more•Full Time\\nMessenger\\nM...</td>\n",
              "      <td>$70.67 an hour</td>\n",
              "      <td>https://www.indeed.com/viewjob?jk=0b0b432e2a51...</td>\n",
              "      <td>Full-time</td>\n",
              "      <td>NaN</td>\n",
              "      <td>NaN</td>\n",
              "      <td>NaN</td>\n",
              "      <td>US</td>\n",
              "      <td>Data Scientist</td>\n",
              "      <td>https://www.metacareers.com/jobs/3101204833367...</td>\n",
              "    </tr>\n",
              "    <tr>\n",
              "      <th>3</th>\n",
              "      <td>Meta</td>\n",
              "      <td>4.2</td>\n",
              "      <td>Bellevue, WA 98005</td>\n",
              "      <td>Software Engineer, Machine Learning</td>\n",
              "      <td>Bellevue, WA • Full Time\\nMeta\\nSoftware Engin...</td>\n",
              "      <td>$203,350 - $240,240 a year</td>\n",
              "      <td>https://www.indeed.com/viewjob?jk=08d2ef77c976...</td>\n",
              "      <td>Full-time</td>\n",
              "      <td>NaN</td>\n",
              "      <td>NaN</td>\n",
              "      <td>NaN</td>\n",
              "      <td>US</td>\n",
              "      <td>Data Scientist</td>\n",
              "      <td>https://www.metacareers.com/jobs/1096352489054...</td>\n",
              "    </tr>\n",
              "    <tr>\n",
              "      <th>4</th>\n",
              "      <td>Lockheed Martin</td>\n",
              "      <td>4.0</td>\n",
              "      <td>Shelton, CT 06484</td>\n",
              "      <td>AI / Machine Learning Research Engineer (early...</td>\n",
              "      <td>Job ID: 694362BR\\nDate posted: May. 22, 2025\\n...</td>\n",
              "      <td>NaN</td>\n",
              "      <td>https://www.indeed.com/viewjob?jk=e9aad7dcc34e...</td>\n",
              "      <td>Full-time</td>\n",
              "      <td>NaN</td>\n",
              "      <td>NaN</td>\n",
              "      <td>NaN</td>\n",
              "      <td>US</td>\n",
              "      <td>Data Scientist</td>\n",
              "      <td>https://click.appcast.io/t/V35efAz0-l7FWwo6IKe...</td>\n",
              "    </tr>\n",
              "  </tbody>\n",
              "</table>\n",
              "</div>\n",
              "    <div class=\"colab-df-buttons\">\n",
              "\n",
              "  <div class=\"colab-df-container\">\n",
              "    <button class=\"colab-df-convert\" onclick=\"convertToInteractive('df-cbebb5dc-01a2-4e7b-9823-c8c6b95c2d20')\"\n",
              "            title=\"Convert this dataframe to an interactive table.\"\n",
              "            style=\"display:none;\">\n",
              "\n",
              "  <svg xmlns=\"http://www.w3.org/2000/svg\" height=\"24px\" viewBox=\"0 -960 960 960\">\n",
              "    <path d=\"M120-120v-720h720v720H120Zm60-500h600v-160H180v160Zm220 220h160v-160H400v160Zm0 220h160v-160H400v160ZM180-400h160v-160H180v160Zm440 0h160v-160H620v160ZM180-180h160v-160H180v160Zm440 0h160v-160H620v160Z\"/>\n",
              "  </svg>\n",
              "    </button>\n",
              "\n",
              "  <style>\n",
              "    .colab-df-container {\n",
              "      display:flex;\n",
              "      gap: 12px;\n",
              "    }\n",
              "\n",
              "    .colab-df-convert {\n",
              "      background-color: #E8F0FE;\n",
              "      border: none;\n",
              "      border-radius: 50%;\n",
              "      cursor: pointer;\n",
              "      display: none;\n",
              "      fill: #1967D2;\n",
              "      height: 32px;\n",
              "      padding: 0 0 0 0;\n",
              "      width: 32px;\n",
              "    }\n",
              "\n",
              "    .colab-df-convert:hover {\n",
              "      background-color: #E2EBFA;\n",
              "      box-shadow: 0px 1px 2px rgba(60, 64, 67, 0.3), 0px 1px 3px 1px rgba(60, 64, 67, 0.15);\n",
              "      fill: #174EA6;\n",
              "    }\n",
              "\n",
              "    .colab-df-buttons div {\n",
              "      margin-bottom: 4px;\n",
              "    }\n",
              "\n",
              "    [theme=dark] .colab-df-convert {\n",
              "      background-color: #3B4455;\n",
              "      fill: #D2E3FC;\n",
              "    }\n",
              "\n",
              "    [theme=dark] .colab-df-convert:hover {\n",
              "      background-color: #434B5C;\n",
              "      box-shadow: 0px 1px 3px 1px rgba(0, 0, 0, 0.15);\n",
              "      filter: drop-shadow(0px 1px 2px rgba(0, 0, 0, 0.3));\n",
              "      fill: #FFFFFF;\n",
              "    }\n",
              "  </style>\n",
              "\n",
              "    <script>\n",
              "      const buttonEl =\n",
              "        document.querySelector('#df-cbebb5dc-01a2-4e7b-9823-c8c6b95c2d20 button.colab-df-convert');\n",
              "      buttonEl.style.display =\n",
              "        google.colab.kernel.accessAllowed ? 'block' : 'none';\n",
              "\n",
              "      async function convertToInteractive(key) {\n",
              "        const element = document.querySelector('#df-cbebb5dc-01a2-4e7b-9823-c8c6b95c2d20');\n",
              "        const dataTable =\n",
              "          await google.colab.kernel.invokeFunction('convertToInteractive',\n",
              "                                                    [key], {});\n",
              "        if (!dataTable) return;\n",
              "\n",
              "        const docLinkHtml = 'Like what you see? Visit the ' +\n",
              "          '<a target=\"_blank\" href=https://colab.research.google.com/notebooks/data_table.ipynb>data table notebook</a>'\n",
              "          + ' to learn more about interactive tables.';\n",
              "        element.innerHTML = '';\n",
              "        dataTable['output_type'] = 'display_data';\n",
              "        await google.colab.output.renderOutput(dataTable, element);\n",
              "        const docLink = document.createElement('div');\n",
              "        docLink.innerHTML = docLinkHtml;\n",
              "        element.appendChild(docLink);\n",
              "      }\n",
              "    </script>\n",
              "  </div>\n",
              "\n",
              "\n",
              "    <div id=\"df-5d112519-721c-41d3-be99-88876c584dea\">\n",
              "      <button class=\"colab-df-quickchart\" onclick=\"quickchart('df-5d112519-721c-41d3-be99-88876c584dea')\"\n",
              "                title=\"Suggest charts\"\n",
              "                style=\"display:none;\">\n",
              "\n",
              "<svg xmlns=\"http://www.w3.org/2000/svg\" height=\"24px\"viewBox=\"0 0 24 24\"\n",
              "     width=\"24px\">\n",
              "    <g>\n",
              "        <path d=\"M19 3H5c-1.1 0-2 .9-2 2v14c0 1.1.9 2 2 2h14c1.1 0 2-.9 2-2V5c0-1.1-.9-2-2-2zM9 17H7v-7h2v7zm4 0h-2V7h2v10zm4 0h-2v-4h2v4z\"/>\n",
              "    </g>\n",
              "</svg>\n",
              "      </button>\n",
              "\n",
              "<style>\n",
              "  .colab-df-quickchart {\n",
              "      --bg-color: #E8F0FE;\n",
              "      --fill-color: #1967D2;\n",
              "      --hover-bg-color: #E2EBFA;\n",
              "      --hover-fill-color: #174EA6;\n",
              "      --disabled-fill-color: #AAA;\n",
              "      --disabled-bg-color: #DDD;\n",
              "  }\n",
              "\n",
              "  [theme=dark] .colab-df-quickchart {\n",
              "      --bg-color: #3B4455;\n",
              "      --fill-color: #D2E3FC;\n",
              "      --hover-bg-color: #434B5C;\n",
              "      --hover-fill-color: #FFFFFF;\n",
              "      --disabled-bg-color: #3B4455;\n",
              "      --disabled-fill-color: #666;\n",
              "  }\n",
              "\n",
              "  .colab-df-quickchart {\n",
              "    background-color: var(--bg-color);\n",
              "    border: none;\n",
              "    border-radius: 50%;\n",
              "    cursor: pointer;\n",
              "    display: none;\n",
              "    fill: var(--fill-color);\n",
              "    height: 32px;\n",
              "    padding: 0;\n",
              "    width: 32px;\n",
              "  }\n",
              "\n",
              "  .colab-df-quickchart:hover {\n",
              "    background-color: var(--hover-bg-color);\n",
              "    box-shadow: 0 1px 2px rgba(60, 64, 67, 0.3), 0 1px 3px 1px rgba(60, 64, 67, 0.15);\n",
              "    fill: var(--button-hover-fill-color);\n",
              "  }\n",
              "\n",
              "  .colab-df-quickchart-complete:disabled,\n",
              "  .colab-df-quickchart-complete:disabled:hover {\n",
              "    background-color: var(--disabled-bg-color);\n",
              "    fill: var(--disabled-fill-color);\n",
              "    box-shadow: none;\n",
              "  }\n",
              "\n",
              "  .colab-df-spinner {\n",
              "    border: 2px solid var(--fill-color);\n",
              "    border-color: transparent;\n",
              "    border-bottom-color: var(--fill-color);\n",
              "    animation:\n",
              "      spin 1s steps(1) infinite;\n",
              "  }\n",
              "\n",
              "  @keyframes spin {\n",
              "    0% {\n",
              "      border-color: transparent;\n",
              "      border-bottom-color: var(--fill-color);\n",
              "      border-left-color: var(--fill-color);\n",
              "    }\n",
              "    20% {\n",
              "      border-color: transparent;\n",
              "      border-left-color: var(--fill-color);\n",
              "      border-top-color: var(--fill-color);\n",
              "    }\n",
              "    30% {\n",
              "      border-color: transparent;\n",
              "      border-left-color: var(--fill-color);\n",
              "      border-top-color: var(--fill-color);\n",
              "      border-right-color: var(--fill-color);\n",
              "    }\n",
              "    40% {\n",
              "      border-color: transparent;\n",
              "      border-right-color: var(--fill-color);\n",
              "      border-top-color: var(--fill-color);\n",
              "    }\n",
              "    60% {\n",
              "      border-color: transparent;\n",
              "      border-right-color: var(--fill-color);\n",
              "    }\n",
              "    80% {\n",
              "      border-color: transparent;\n",
              "      border-right-color: var(--fill-color);\n",
              "      border-bottom-color: var(--fill-color);\n",
              "    }\n",
              "    90% {\n",
              "      border-color: transparent;\n",
              "      border-bottom-color: var(--fill-color);\n",
              "    }\n",
              "  }\n",
              "</style>\n",
              "\n",
              "      <script>\n",
              "        async function quickchart(key) {\n",
              "          const quickchartButtonEl =\n",
              "            document.querySelector('#' + key + ' button');\n",
              "          quickchartButtonEl.disabled = true;  // To prevent multiple clicks.\n",
              "          quickchartButtonEl.classList.add('colab-df-spinner');\n",
              "          try {\n",
              "            const charts = await google.colab.kernel.invokeFunction(\n",
              "                'suggestCharts', [key], {});\n",
              "          } catch (error) {\n",
              "            console.error('Error during call to suggestCharts:', error);\n",
              "          }\n",
              "          quickchartButtonEl.classList.remove('colab-df-spinner');\n",
              "          quickchartButtonEl.classList.add('colab-df-quickchart-complete');\n",
              "        }\n",
              "        (() => {\n",
              "          let quickchartButtonEl =\n",
              "            document.querySelector('#df-5d112519-721c-41d3-be99-88876c584dea button');\n",
              "          quickchartButtonEl.style.display =\n",
              "            google.colab.kernel.accessAllowed ? 'block' : 'none';\n",
              "        })();\n",
              "      </script>\n",
              "    </div>\n",
              "\n",
              "    </div>\n",
              "  </div>\n"
            ],
            "application/vnd.google.colaboratory.intrinsic+json": {
              "type": "dataframe",
              "variable_name": "df",
              "summary": "{\n  \"name\": \"df\",\n  \"rows\": 735,\n  \"fields\": [\n    {\n      \"column\": \"company\",\n      \"properties\": {\n        \"dtype\": \"string\",\n        \"num_unique_values\": 427,\n        \"samples\": [\n          \"MGR Workforce\",\n          \"CACI\",\n          \"UnitedHealthcare\"\n        ],\n        \"semantic_type\": \"\",\n        \"description\": \"\"\n      }\n    },\n    {\n      \"column\": \"rating\",\n      \"properties\": {\n        \"dtype\": \"number\",\n        \"std\": 1.3575514057300446,\n        \"min\": 0.0,\n        \"max\": 5.0,\n        \"num_unique_values\": 29,\n        \"samples\": [\n          4.4,\n          4.6,\n          3.0\n        ],\n        \"semantic_type\": \"\",\n        \"description\": \"\"\n      }\n    },\n    {\n      \"column\": \"location\",\n      \"properties\": {\n        \"dtype\": \"category\",\n        \"num_unique_values\": 321,\n        \"samples\": [\n          \"Charlottesville, VA\",\n          \"Denver, CO 80203\",\n          \"Saint Paul, MN\"\n        ],\n        \"semantic_type\": \"\",\n        \"description\": \"\"\n      }\n    },\n    {\n      \"column\": \"positionName\",\n      \"properties\": {\n        \"dtype\": \"string\",\n        \"num_unique_values\": 550,\n        \"samples\": [\n          \"Mathematical Statistician III\",\n          \"Decision Scientist\",\n          \"Software Engineer (AI Agents)\"\n        ],\n        \"semantic_type\": \"\",\n        \"description\": \"\"\n      }\n    },\n    {\n      \"column\": \"description\",\n      \"properties\": {\n        \"dtype\": \"string\",\n        \"num_unique_values\": 711,\n        \"samples\": [\n          \"This Data Scientist III will play a pivotal role in collaborating with interdisciplinary teams to design, develop, and implement AI-driven solutions to advance initiatives under the UF College of Medicine\\u2019s Quality and Patient Safety Initiative (QPSi). This position will partner with health care professionals, UF faculty, data science teams, and others to create and deploy advanced data analytics and AI models that address clinical questions related to quality improvement, patient safety, and medical operations.\\n\\nLeveraging expertise in statistical analysis, machine learning, and programming, the incumbent will drive data-centric solutions to enhance health care outcomes. Strong interpersonal and communication skills are essential, along with the ability to independently select appropriate methods and techniques to deliver impactful results for quality improvement initiatives.\\n\\nAbout This Role:\\n\\nData Science & AI Model Development\\n\\nDevelop, train, tune, and evaluate highly performant machine learning and AI models (including deep learning, natural language processing, and other advanced techniques) to address quality improvement and patient safety challenges in a hospital setting, with a focus on handling complex and sensitive healthcare data such as electronic health records (EHRs).\\nRapidly prototype and implement methods for local application within a learning health center environment, ensuring that models are clinically relevant and actionable through close collaboration with healthcare professionals.\\nContribute robust, clean, and maintainable code to standard AI and machine learning pipelines, ensuring reproducibility and efficient collaboration across the team, with an emphasis on explainability and interpretability of models to support clinical decision-making.\\nLeverage modern software engineering practices (version control, code reviews, unit testing) to maintain high-quality model development processes, while also adhering to ethical considerations and patient privacy regulations such as HIPAA.\\nStay current with state-of-the-art clinical machine learning and AI techniques by reading relevant literature, attending conferences, and engaging with the broader AI research community, with a particular focus on applications in healthcare and patient safety.\\n\\nFeature Engineering & Collaboration with Data Engineers\\n\\nPartner with data engineers to gather, preprocess, and transform both structured (e.g., EHR data) and unstructured (e.g., clinical notes, imaging) datasets into optimized feature sets for AI model development.\\nDesign and implement feature extraction workflows, including handling missing data, categorical encoding, and creation of derived variables.\\nWork alongside database architects and data engineers to define data schemas and pipelines that accommodate large-scale datasets, ensuring reliability and scalability.\\nProvide specifications for data ingestion and transformation processes that align with best practices in healthcare data governance and privacy standards.\\n\\nMLOPS & Clinical Deployment\\n\\nCollaborate with MLOps staff to deploy models into clinical production environments, ensuring continuous integration and delivery (CI/CD), automated testing, monitoring, and model retraining.\\nContribute to the development of containerized solutions and microservices that streamline the deployment and scaling of AI models.\\nEstablish robust metrics and feedback loops to monitor real-world model performance, detect model drift, and ensure reliability and clinical relevance over time.\\nDefine processes for model updates based on new data, changes in clinical practice, or evolving organizational needs.\\n\\nKnowledge Sharing & Communication\\n\\nCreate clear, actionable reports and visualizations to communicate model performance, results, and insights to clinicians, administrators, and other decision-makers.\\nDevelop interactive dashboards and other reporting mechanisms that facilitate real-time analytics and model insights.\\nLead and contribute to manuscripts, presentations, and white papers that detail novel AI methodologies and outcomes for internal stakeholders and external conferences/journals.\\nParticipate in the development of educational resources and training materials on AI, machine learning, and data science best practices for a wide range of healthcare professionals.\\n\\nAbout COM's Quality and Patient Safety Initiative (QPSi):\\n\\nThe UF College of Medicine's Quality and Patient Safety Initiative (QPSi) is dedicated to enhancing patient care quality and safety through innovative research, education, and collaboration. This initiative focuses on implementing evidence-based practices, advancing patient safety initiatives, and fostering a culture of continuous improvement within the College of Medicine.\\n\\nQPSi's mission is to drive excellence in healthcare delivery by integrating clinical expertise, data-driven insights, and cutting-edge technology. The initiative engages healthcare professionals, students, and stakeholders in efforts to elevate patient care standards and outcomes.\\n\\nFor more information about the Quality and Patient Safety Initiative, visit UF College of Medicine's QPSi.\\n\\nWe Offer Exceptional Benefits:\\n\\nLow-cost State Health Plans: Medical, Dental, and Vision Insurance\\nLife and Disability Insurance\\nGenerous Retirement Options to secure your future\\nComprehensive Paid Time Off Packages: (includes over 10 paid holidays, as well as paid family, sick and vacation leave)\\nExceptional Personal and Professional Development Opportunities: Access to UF Training & Organizational Development programs, leadership development, LinkedIn Learning, and more\\nTuition Assistance through the UF Employee Education Program\\nPublic Service Loan Forgiveness (PSLF) Eligible Employer\\n\\nAbout Gainesville, Florida:\\n\\nHome to the University of Florida, one of the nation's top public universities, Gainesville offers vibrant academic and healthcare communities alongside an affordable cost of living, no state income tax, and mild winters. Enjoy the outdoors with over 30 miles of bike trails, freshwater springs, and numerous water activities, plus easy access to beaches and world-class theme parks.\\n\\nGainesville combines historic charm with modern amenities, including a great school system, a lively downtown, and a thriving local culture with farmers' markets and craft breweries. Discover professional growth and quality of life in Gainesville\\u2014where community, innovation, and work-life balance meet!\\n\\nFor more information, check out: The Guide to Greater Gainesville and Explore Gainesville in 60 seconds\\n\\nExpected Salary:\\n\\n$88,000 - $105,000 annually; commensurate with education and experience.\\n\\nRequired Qualifications:\\n\\nA Bachelor\\u2019s Degree in data science, statistics, bioinformatics, analytics, or similar field and five years of experience; Master\\u2019s Degree in data science, statistics, bioinformatics, analytics, or similar field and three years of experience; Doctoral Degree in data science, statistics, bioinformatics, analytics, or similar field and one year of experience.\\n\\nPreferred:\\n\\nThe ideal candidate will possess:\\n\\nMaster\\u2019s degree or PhD in computer science, statistics, information systems, or related field and four years of relevant experience.\\nAdvanced knowledge of machine learning libraries and frameworks (e.g., TensorFlow, PyTorch, scikit-learn), programming languages (Python, R, SQL), and cloud/HPC environments.\\nFamiliarity with healthcare data (EHR systems, clinical ontologies, privacy regulations) and experience applying AI methods in clinical settings.\\nExcellent interpersonal skills for cross-functional teamwork with clinicians, data engineers, MLOps professionals, and other stakeholders.\\nAbility to translate emerging academic research in AI and machine learning into practical, production-ready solutions for quality improvement and patient safety.\\nAbility to plan, organize and coordinate work assignments.\\nAbility to work effectively and independently.\\nAbility to communicate effectively verbally and in writing.\\nAbility to establish and maintain effective working relationships with others.\\n\\nSpecial Instructions to Applicants:\\n\\nTo be considered, please upload the following documents with your application:\\n\\nCover Letter\\nResume\\nContact information for three professional references\\n\\nIf an accommodation due to a disability is needed to apply for this position, please call 352-392-2477 or the Florida Relay System at 800-955-8771 (TDD).\\n\\nApplication must be submitted by 11:55 p.m. (ET) of the posting end date.\\n\\nHealth Assessment Required: No\",\n          \"Posted Date\\n6/24/2025\\nDescription\\n\\nJob Overview:\\n\\nWe are seeking a dynamic and strategic AI & Data Platform Program Lead to oversee the design, delivery, and adoption of two of our most critical technology initiatives: the Modular + Agentic Gen AI Product Platform, and the Enterprise Data Mesh built on a decoupled Data Lakehouse architecture. This role is at the intersection of program leadership, product evangelism, and stakeholder engagement\\u2014ensuring we don\\u2019t just build powerful capabilities, but also deliver business impact through sustained adoption.\\n\\nYou will work closely with Product Architects, Data Engineers, Cloud Architects, and Gen AI teams to bring these platforms to life while partnering with business units to shape use cases, demonstrate value, and promote reuse across the enterprise. If you are part visionary, part operator, and part storyteller\\u2014with a passion for AI, data, and platform thinking\\u2014this is your role.\\n\\nKey Responsibilities:\\n\\nProgram Execution & Leadership:\\n\\nDrive end-to-end delivery of Modular Gen AI and Data Mesh platform initiatives\\u2014managing timelines, risks, and interdependencies.\\nTranslate high-level architectural visions into actionable roadmaps, and ensure aligned execution across multiple tech teams.\\nEstablish clear OKRs and KPIs for program success, balancing innovation velocity with governance and adoption.\\n\\nProduct Evangelism & Internal Marketing:\\n\\nEvangelize the platform strategy to internal business and technology stakeholders.\\nChampion the value of Agentic AI solutions, modular plug-and-play Gen AI, and data-as-a-product across use cases and functions.\\nPackage solutions into compelling internal offerings, run roadshows, host demos, and drive awareness across lines of business.\\n\\nStakeholder Engagement & Value Realization:\\n\\nIdentify key business partners and work with them to understand pain points and showcase how platform capabilities can solve them.\\nServe as the primary bridge between engineering teams and business users\\u2014ensuring alignment of priorities and value.\\nManage intake of use cases, prioritize based on reuse potential, and track outcomes.\\n\\nCross-Platform Integration & Scaling:\\n\\nEnsure Gen AI components and Data Mesh components interoperate as part of a unified platform offering.\\nPromote consistent design, documentation, and consumption patterns for both AI and data components.\\nFoster a contribution model where other teams can plug into and extend the platform.\\n\\nQualifications:\\n\\n10\\u201315 years of experience in program management, technology leadership, or product strategy roles.\\nStrong understanding of AI/ML delivery life cycle and modern data architectures (Data Mesh, Lakehouse, Cloud Object Storage, Iceberg, Starburst).\\nProven experience in managing large-scale platform initiatives or cross-functional tech programs.\\nStrong communication and storytelling skills\\u2014comfortable presenting to both technical and executive audiences.\\nAbility to distill complex technical concepts into relatable business value narratives.\\nHands-on familiarity with Gen AI concepts such as prompt engineering, RAG, LLMs, agentic workflows, and open-source AI tooling (LangChain, Haystack).\\nComfort working with diverse stakeholders including data engineers, AI scientists, architects, business sponsors, and control partners.\\n\\nEducation:\\n\\nBachelor\\u2019s or Master\\u2019s degree in Computer Science, Engineering, Business, or related field.\\n\\n-\\n\\nJob Family Group:\\n\\nTechnology\\n\\n-\\n\\nJob Family:\\n\\nTechnology Product Management\\n\\n-\\n\\nTime Type:\\n\\nFull time\\n\\n-\\n\\nPrimary Location:\\n\\nNew York New York United States\\n\\n-\\n\\nPrimary Location Full Time Salary Range:\\n\\n$192,000.00 - $288,000.00\\n\\nIn addition to salary, Citi\\u2019s offerings may also include, for eligible employees, discretionary and formulaic incentive and retention awards. Citi offers competitive employee benefits, including: medical, dental & vision coverage; 401(k); life, accident, and disability insurance; and wellness programs. Citi also offers paid time off packages, including planned time off (vacation), unplanned time off (sick leave), and paid holidays. For additional information regarding Citi employee benefits, please visit citibenefits.com. Available offerings may vary by jurisdiction, job level, and date of hire.\\n\\n-\\n\\nMost Relevant Skills\\n\\nPlease see the requirements listed above.\\n\\n-\\n\\nOther Relevant Skills\\n\\nFor complementary skills, please see above and/or contact the recruiter.\\n\\n-\\n\\nAnticipated Posting Close Date:\\n\\nJul 01, 2025\\n\\n-\\n\\nCiti is an equal opportunity employer, and qualified candidates will receive consideration without regard to their race, color, religion, sex, sexual orientation, gender identity, national origin, disability, status as a protected veteran, or any other characteristic protected by law.\\n\\nIf you are a person with a disability and need a reasonable accommodation to use our search tools and/or apply for a career opportunity review Accessibility at Citi.\\n\\nView Citi\\u2019s EEO Policy Statement and the Know Your Rights poster.\\n\\nSalary\\n192,000.00 - 288,000.00 Annual\\nType\\nFull-time\",\n          \"We are recruiting for a motivated Data Scientist to join our team!\\n\\nWe are here for life\\u2019s journey.\\nWhere is your life journey taking you?\\n\\nBeing the heartbeat of Denver means our heart reflects something bigger than ourselves, something that connects us all:\\n\\nHumanity in action, Triumph in hardship, Transformation in health.\\n\\nDepartment\\n\\nACS-CHS Grants Funded\\n\\nJob Summary\\n\\nUnder minimal supervision, the Data Scientist is responsible for development, implementation, and evaluation of multiple projects simultaneously. This includes gathering business requirements, extracting data, conducting statistical analyses, creating reports and visualizations, and developing system solutions. The Data Scientist readily displays the ability to diagnose issues, identify appropriate resources and escalations, and propose creative solutions to complex problems.\\n\\nUnder general direction, the Data Scientist is knowledgeable in the Epic Cogito suite of tools (Epic Certification/proficiency, preferred), who is responsible for the support, analysis, design, build, configuration, implementation, and workflow documentation of the assigned Epic application or third-party software, in alignment with organization's policies, procedures, and business operations.\\n\\nEssential Functions:\\n\\n Project Planning: Meets with stakeholders to identify business requirements, expected outcomes, and pertinent data sources. Collaborates with information technology teams, stakeholders, and subject matter experts to locate, evaluate, integrate, and validate new and existing data sources. Documents business requirements, data requirements, data sources, and programming logic pertaining to data requests. Conducts literature reviews.\\n\\n (20%)\\n\\n Project Management: Manages projects as a lead or supporting team member. Periodically reviews processes, coding, and requirements for opportunities for improvement and automation. (10%)\\n\\n Data Management, Modeling and Analysis: Queries databases. Designs database structures and data models to facilitate the acquisition, management, integration, and reporting of data and information using industry standards and guidelines. Compares models using statistical performance metrics. Creates and utilizes programs or tools to ensure data accuracy and integrity. Analyzes data using statistical software. (40%)\\n\\n Reporting: Creates graphs, charts, or other visualizations to convey the results of data analysis. Makes formal and informal presentations to leadership and end users both orally and in writing. (30%)\\n\\nEducation:\\n\\nBachelor's Degree in Health Informatics, Computer Science, Health Services Research, Public Health, Mathematics, Science, or closely related field Required\\n\\nWork Experience:\\n\\n1-3 years of professional experience working with relational databases, summarizing data, and reporting meaningful results to end users. Prior experience with health relational databases is required. Required\\n\\nLicenses:\\n\\nCABOODLE-EPIC Cogito Data Warehouse - DHHA - Denver Health and Hospital Authority\\n\\nKnowledge, Skills and Abilities:\\n\\nEpic Certification/proficiency in the Cogito suite of tools, preferred.\\n\\nDemonstrates data literacy with strong analytical and problem-solving skills; the ability to prepare and transform raw data to deliver insights.\\n\\nAbility to adapt and excel in an evolving technical environment; identifies and validates the appropriate technological solutions for various reporting needs.\\n\\nDemonstrates strong ability to identify, analyze, and solve problems. Can use analytical reasoning to determine root causes, define the problem, generate solutions, and implement the best option.\\n\\nCommunicates in a way that builds relationships and fosters collaborative work. Tailors the mode and content of communication to both technical and non-technical colleagues in and outside of the organization.\\n\\nDisplays high level of initiative, including the ability and willingness to take ownership of work, recognize assignments or tasks that need to be completed, seek out additional assignments or tasks, and help others.\\n\\nBusiness analysis skills to identify data solutions by interviewing business users, analyzing processes/operations, establishing solution objectives, prototyping solution, and preparing specifications.\\n\\n Advanced knowledge of Microsoft Office applications (Word, Excel, PowerPoint)\\n\\nIntermediate SQL skills or equivalent computer language skills and strong understanding of dimensional and relational database concepts, including primary keys, foreign keys, and joins.\\n\\nAbility to research and troubleshoot reporting content functionality to ensure data is accurate and daily processing has been completed.\\n\\nProficiency and demonstrated experience with report writing and data visualization tools, such as Excel, Tableau, or Microsoft SSRS\\n\\nShift\\n\\nDays (United States of America)\\n\\nWork Type\\n\\nRegular\\n\\nSalary\\n\\n$73,500.00 - $113,900.00 / yr\\n\\nBenefits\\n\\nOutstanding benefits including up to 27 paid days off per year, immediate retirement plan employer contribution up to 9.5%, and generous medical plans\\n\\nFree RTD EcoPass (public transportation)\\n\\nOn-site employee fitness center and wellness classes\\n\\nChildcare discount programs & exclusive perks on large brands, travel, and more\\n\\nTuition reimbursement & assistance\\n\\nEducation & development opportunities including career pathways and coaching\\n\\nProfessional clinical advancement program & shared governance\\n\\nPublic Service Loan Forgiveness (PSLF) eligible employer+ free student loan coaching and assistance navigating the PSLF program\\n\\nNational Health Service Corps (NHCS) and Colorado Health Service Corps (CHSC) eligible employer\\n\\nOur Values\\n\\nRespect\\n\\nBelonging\\n\\nAccountability\\n\\nTransparency\\n\\nAll job applicants for safety-sensitive positions must pass a pre-employment drug test, once a conditional offer of employment has been made.\\n\\nDenver Health is an integrated, high-quality academic health care system considered a model for the nation that includes a Level I Trauma Center, a 555-bed acute care medical center, Denver\\u2019s 911 emergency medical response system, 10 family health centers, 19 school-based health centers, Rocky Mountain Poison & Drug Safety, a Public Health Institute, an HMO and The Denver Health Foundation.\\n\\nAs Colorado\\u2019s primary, and essential, safety-net institution, Denver Health is a mission-driven organization that has provided billions in uncompensated care for the uninsured. Denver Health is viewed as an Anchor Institution for the community, focusing on hiring and purchasing locally as applicable, serving as a pillar for community needs, and caring for more than 185,000 individuals and 67,000 children a year.\\n\\nLocated near downtown Denver, Denver Health is just minutes away from many of the cultural and recreational activities Denver has to offer.\\n\\nDenver Health is an equal opportunity employer (EOE). We value the unique ideas, talents and contributions reflective of the needs of our community.\\n\\nApplicants will be considered until the position is filled.\"\n        ],\n        \"semantic_type\": \"\",\n        \"description\": \"\"\n      }\n    },\n    {\n      \"column\": \"salary\",\n      \"properties\": {\n        \"dtype\": \"string\",\n        \"num_unique_values\": 385,\n        \"samples\": [\n          \"From $190,000 a year\",\n          \"$120,000 - $350,000 a year\",\n          \"$104,645 - $140,000 a year\"\n        ],\n        \"semantic_type\": \"\",\n        \"description\": \"\"\n      }\n    },\n    {\n      \"column\": \"url\",\n      \"properties\": {\n        \"dtype\": \"string\",\n        \"num_unique_values\": 735,\n        \"samples\": [\n          \"https://www.indeed.com/viewjob?jk=bc7bd259e6794800\",\n          \"https://www.indeed.com/viewjob?jk=54dce504c7cba3fa\",\n          \"https://www.indeed.com/viewjob?jk=16894e4a39ca1805\"\n        ],\n        \"semantic_type\": \"\",\n        \"description\": \"\"\n      }\n    },\n    {\n      \"column\": \"jobType/0\",\n      \"properties\": {\n        \"dtype\": \"category\",\n        \"num_unique_values\": 6,\n        \"samples\": [\n          \"Full-time\",\n          \"Part-time\",\n          \"Permanent\"\n        ],\n        \"semantic_type\": \"\",\n        \"description\": \"\"\n      }\n    },\n    {\n      \"column\": \"jobType/1\",\n      \"properties\": {\n        \"dtype\": \"category\",\n        \"num_unique_values\": 4,\n        \"samples\": [\n          \"Contract\",\n          \"Full-time\",\n          \"Internship\"\n        ],\n        \"semantic_type\": \"\",\n        \"description\": \"\"\n      }\n    },\n    {\n      \"column\": \"jobType/2\",\n      \"properties\": {\n        \"dtype\": \"category\",\n        \"num_unique_values\": 1,\n        \"samples\": [\n          \"Full-time\"\n        ],\n        \"semantic_type\": \"\",\n        \"description\": \"\"\n      }\n    },\n    {\n      \"column\": \"jobType/3\",\n      \"properties\": {\n        \"dtype\": \"category\",\n        \"num_unique_values\": 1,\n        \"samples\": [\n          \"Contract\"\n        ],\n        \"semantic_type\": \"\",\n        \"description\": \"\"\n      }\n    },\n    {\n      \"column\": \"searchInput/country\",\n      \"properties\": {\n        \"dtype\": \"category\",\n        \"num_unique_values\": 1,\n        \"samples\": [\n          \"US\"\n        ],\n        \"semantic_type\": \"\",\n        \"description\": \"\"\n      }\n    },\n    {\n      \"column\": \"searchInput/position\",\n      \"properties\": {\n        \"dtype\": \"category\",\n        \"num_unique_values\": 1,\n        \"samples\": [\n          \"Data Scientist\"\n        ],\n        \"semantic_type\": \"\",\n        \"description\": \"\"\n      }\n    },\n    {\n      \"column\": \"externalApplyLink\",\n      \"properties\": {\n        \"dtype\": \"string\",\n        \"num_unique_values\": 549,\n        \"samples\": [\n          \"https://www.amazon.jobs/en/jobs/3016027/data-scientist-applied-ai-solutions?cmpid=DA_INAD200785B\"\n        ],\n        \"semantic_type\": \"\",\n        \"description\": \"\"\n      }\n    }\n  ]\n}"
            }
          },
          "metadata": {},
          "execution_count": 2
        }
      ]
    },
    {
      "cell_type": "markdown",
      "source": [
        "# **4. Exploratory Data Analysis (EDA)**\n",
        "\n",
        "Pada tahap ini, Anda akan melakukan **Exploratory Data Analysis (EDA)** untuk memahami karakteristik dataset.\n",
        "\n",
        "Tujuan dari EDA adalah untuk memperoleh wawasan awal yang mendalam mengenai data dan menentukan langkah selanjutnya dalam analisis atau pemodelan."
      ],
      "metadata": {
        "id": "bgZkbJLpK9UR"
      }
    },
    {
      "cell_type": "code",
      "source": [
        "#Type your code here\n",
        "df.info()"
      ],
      "metadata": {
        "id": "dKeejtvxM6X1",
        "colab": {
          "base_uri": "https://localhost:8080/"
        },
        "outputId": "302290b8-4028-4d68-d743-df06b0bbac8e"
      },
      "execution_count": 3,
      "outputs": [
        {
          "output_type": "stream",
          "name": "stdout",
          "text": [
            "<class 'pandas.core.frame.DataFrame'>\n",
            "RangeIndex: 735 entries, 0 to 734\n",
            "Data columns (total 14 columns):\n",
            " #   Column                Non-Null Count  Dtype  \n",
            "---  ------                --------------  -----  \n",
            " 0   company               735 non-null    object \n",
            " 1   rating                735 non-null    float64\n",
            " 2   location              735 non-null    object \n",
            " 3   positionName          735 non-null    object \n",
            " 4   description           735 non-null    object \n",
            " 5   salary                506 non-null    object \n",
            " 6   url                   735 non-null    object \n",
            " 7   jobType/0             501 non-null    object \n",
            " 8   jobType/1             19 non-null     object \n",
            " 9   jobType/2             1 non-null      object \n",
            " 10  jobType/3             1 non-null      object \n",
            " 11  searchInput/country   735 non-null    object \n",
            " 12  searchInput/position  735 non-null    object \n",
            " 13  externalApplyLink     553 non-null    object \n",
            "dtypes: float64(1), object(13)\n",
            "memory usage: 80.5+ KB\n"
          ]
        }
      ]
    },
    {
      "cell_type": "code",
      "source": [
        "df.describe(include='object')"
      ],
      "metadata": {
        "colab": {
          "base_uri": "https://localhost:8080/",
          "height": 247
        },
        "id": "USuhbNhGsvT9",
        "outputId": "6eb4c5a0-b1b0-483b-b3ae-d3474fe88f9b"
      },
      "execution_count": 4,
      "outputs": [
        {
          "output_type": "execute_result",
          "data": {
            "text/plain": [
              "       company      location    positionName  \\\n",
              "count      735           735             735   \n",
              "unique     427           321             550   \n",
              "top     Amazon  New York, NY  Data Scientist   \n",
              "freq        24            62              45   \n",
              "\n",
              "                                              description  \\\n",
              "count                                                 735   \n",
              "unique                                                711   \n",
              "top     Job Description:\\n\\nThis position requires off...   \n",
              "freq                                                    2   \n",
              "\n",
              "                            salary  \\\n",
              "count                          506   \n",
              "unique                         385   \n",
              "top     $206,000 - $281,000 a year   \n",
              "freq                             6   \n",
              "\n",
              "                                                      url  jobType/0  \\\n",
              "count                                                 735        501   \n",
              "unique                                                735          6   \n",
              "top     https://www.indeed.com/viewjob?jk=e587a3d57c2e...  Full-time   \n",
              "freq                                                    1        439   \n",
              "\n",
              "       jobType/1  jobType/2 jobType/3 searchInput/country  \\\n",
              "count         19          1         1                 735   \n",
              "unique         4          1         1                   1   \n",
              "top     Contract  Full-time  Contract                  US   \n",
              "freq          13          1         1                 735   \n",
              "\n",
              "       searchInput/position                                  externalApplyLink  \n",
              "count                   735                                                553  \n",
              "unique                    1                                                549  \n",
              "top          Data Scientist  https://apply.deloitte.com/en_US/careers/Invit...  \n",
              "freq                    735                                                  2  "
            ],
            "text/html": [
              "\n",
              "  <div id=\"df-b55d467a-f7df-4fe1-9273-af9decd42a24\" class=\"colab-df-container\">\n",
              "    <div>\n",
              "<style scoped>\n",
              "    .dataframe tbody tr th:only-of-type {\n",
              "        vertical-align: middle;\n",
              "    }\n",
              "\n",
              "    .dataframe tbody tr th {\n",
              "        vertical-align: top;\n",
              "    }\n",
              "\n",
              "    .dataframe thead th {\n",
              "        text-align: right;\n",
              "    }\n",
              "</style>\n",
              "<table border=\"1\" class=\"dataframe\">\n",
              "  <thead>\n",
              "    <tr style=\"text-align: right;\">\n",
              "      <th></th>\n",
              "      <th>company</th>\n",
              "      <th>location</th>\n",
              "      <th>positionName</th>\n",
              "      <th>description</th>\n",
              "      <th>salary</th>\n",
              "      <th>url</th>\n",
              "      <th>jobType/0</th>\n",
              "      <th>jobType/1</th>\n",
              "      <th>jobType/2</th>\n",
              "      <th>jobType/3</th>\n",
              "      <th>searchInput/country</th>\n",
              "      <th>searchInput/position</th>\n",
              "      <th>externalApplyLink</th>\n",
              "    </tr>\n",
              "  </thead>\n",
              "  <tbody>\n",
              "    <tr>\n",
              "      <th>count</th>\n",
              "      <td>735</td>\n",
              "      <td>735</td>\n",
              "      <td>735</td>\n",
              "      <td>735</td>\n",
              "      <td>506</td>\n",
              "      <td>735</td>\n",
              "      <td>501</td>\n",
              "      <td>19</td>\n",
              "      <td>1</td>\n",
              "      <td>1</td>\n",
              "      <td>735</td>\n",
              "      <td>735</td>\n",
              "      <td>553</td>\n",
              "    </tr>\n",
              "    <tr>\n",
              "      <th>unique</th>\n",
              "      <td>427</td>\n",
              "      <td>321</td>\n",
              "      <td>550</td>\n",
              "      <td>711</td>\n",
              "      <td>385</td>\n",
              "      <td>735</td>\n",
              "      <td>6</td>\n",
              "      <td>4</td>\n",
              "      <td>1</td>\n",
              "      <td>1</td>\n",
              "      <td>1</td>\n",
              "      <td>1</td>\n",
              "      <td>549</td>\n",
              "    </tr>\n",
              "    <tr>\n",
              "      <th>top</th>\n",
              "      <td>Amazon</td>\n",
              "      <td>New York, NY</td>\n",
              "      <td>Data Scientist</td>\n",
              "      <td>Job Description:\\n\\nThis position requires off...</td>\n",
              "      <td>$206,000 - $281,000 a year</td>\n",
              "      <td>https://www.indeed.com/viewjob?jk=e587a3d57c2e...</td>\n",
              "      <td>Full-time</td>\n",
              "      <td>Contract</td>\n",
              "      <td>Full-time</td>\n",
              "      <td>Contract</td>\n",
              "      <td>US</td>\n",
              "      <td>Data Scientist</td>\n",
              "      <td>https://apply.deloitte.com/en_US/careers/Invit...</td>\n",
              "    </tr>\n",
              "    <tr>\n",
              "      <th>freq</th>\n",
              "      <td>24</td>\n",
              "      <td>62</td>\n",
              "      <td>45</td>\n",
              "      <td>2</td>\n",
              "      <td>6</td>\n",
              "      <td>1</td>\n",
              "      <td>439</td>\n",
              "      <td>13</td>\n",
              "      <td>1</td>\n",
              "      <td>1</td>\n",
              "      <td>735</td>\n",
              "      <td>735</td>\n",
              "      <td>2</td>\n",
              "    </tr>\n",
              "  </tbody>\n",
              "</table>\n",
              "</div>\n",
              "    <div class=\"colab-df-buttons\">\n",
              "\n",
              "  <div class=\"colab-df-container\">\n",
              "    <button class=\"colab-df-convert\" onclick=\"convertToInteractive('df-b55d467a-f7df-4fe1-9273-af9decd42a24')\"\n",
              "            title=\"Convert this dataframe to an interactive table.\"\n",
              "            style=\"display:none;\">\n",
              "\n",
              "  <svg xmlns=\"http://www.w3.org/2000/svg\" height=\"24px\" viewBox=\"0 -960 960 960\">\n",
              "    <path d=\"M120-120v-720h720v720H120Zm60-500h600v-160H180v160Zm220 220h160v-160H400v160Zm0 220h160v-160H400v160ZM180-400h160v-160H180v160Zm440 0h160v-160H620v160ZM180-180h160v-160H180v160Zm440 0h160v-160H620v160Z\"/>\n",
              "  </svg>\n",
              "    </button>\n",
              "\n",
              "  <style>\n",
              "    .colab-df-container {\n",
              "      display:flex;\n",
              "      gap: 12px;\n",
              "    }\n",
              "\n",
              "    .colab-df-convert {\n",
              "      background-color: #E8F0FE;\n",
              "      border: none;\n",
              "      border-radius: 50%;\n",
              "      cursor: pointer;\n",
              "      display: none;\n",
              "      fill: #1967D2;\n",
              "      height: 32px;\n",
              "      padding: 0 0 0 0;\n",
              "      width: 32px;\n",
              "    }\n",
              "\n",
              "    .colab-df-convert:hover {\n",
              "      background-color: #E2EBFA;\n",
              "      box-shadow: 0px 1px 2px rgba(60, 64, 67, 0.3), 0px 1px 3px 1px rgba(60, 64, 67, 0.15);\n",
              "      fill: #174EA6;\n",
              "    }\n",
              "\n",
              "    .colab-df-buttons div {\n",
              "      margin-bottom: 4px;\n",
              "    }\n",
              "\n",
              "    [theme=dark] .colab-df-convert {\n",
              "      background-color: #3B4455;\n",
              "      fill: #D2E3FC;\n",
              "    }\n",
              "\n",
              "    [theme=dark] .colab-df-convert:hover {\n",
              "      background-color: #434B5C;\n",
              "      box-shadow: 0px 1px 3px 1px rgba(0, 0, 0, 0.15);\n",
              "      filter: drop-shadow(0px 1px 2px rgba(0, 0, 0, 0.3));\n",
              "      fill: #FFFFFF;\n",
              "    }\n",
              "  </style>\n",
              "\n",
              "    <script>\n",
              "      const buttonEl =\n",
              "        document.querySelector('#df-b55d467a-f7df-4fe1-9273-af9decd42a24 button.colab-df-convert');\n",
              "      buttonEl.style.display =\n",
              "        google.colab.kernel.accessAllowed ? 'block' : 'none';\n",
              "\n",
              "      async function convertToInteractive(key) {\n",
              "        const element = document.querySelector('#df-b55d467a-f7df-4fe1-9273-af9decd42a24');\n",
              "        const dataTable =\n",
              "          await google.colab.kernel.invokeFunction('convertToInteractive',\n",
              "                                                    [key], {});\n",
              "        if (!dataTable) return;\n",
              "\n",
              "        const docLinkHtml = 'Like what you see? Visit the ' +\n",
              "          '<a target=\"_blank\" href=https://colab.research.google.com/notebooks/data_table.ipynb>data table notebook</a>'\n",
              "          + ' to learn more about interactive tables.';\n",
              "        element.innerHTML = '';\n",
              "        dataTable['output_type'] = 'display_data';\n",
              "        await google.colab.output.renderOutput(dataTable, element);\n",
              "        const docLink = document.createElement('div');\n",
              "        docLink.innerHTML = docLinkHtml;\n",
              "        element.appendChild(docLink);\n",
              "      }\n",
              "    </script>\n",
              "  </div>\n",
              "\n",
              "\n",
              "    <div id=\"df-68c71b4a-1dee-48e8-ac2e-6d54408d493a\">\n",
              "      <button class=\"colab-df-quickchart\" onclick=\"quickchart('df-68c71b4a-1dee-48e8-ac2e-6d54408d493a')\"\n",
              "                title=\"Suggest charts\"\n",
              "                style=\"display:none;\">\n",
              "\n",
              "<svg xmlns=\"http://www.w3.org/2000/svg\" height=\"24px\"viewBox=\"0 0 24 24\"\n",
              "     width=\"24px\">\n",
              "    <g>\n",
              "        <path d=\"M19 3H5c-1.1 0-2 .9-2 2v14c0 1.1.9 2 2 2h14c1.1 0 2-.9 2-2V5c0-1.1-.9-2-2-2zM9 17H7v-7h2v7zm4 0h-2V7h2v10zm4 0h-2v-4h2v4z\"/>\n",
              "    </g>\n",
              "</svg>\n",
              "      </button>\n",
              "\n",
              "<style>\n",
              "  .colab-df-quickchart {\n",
              "      --bg-color: #E8F0FE;\n",
              "      --fill-color: #1967D2;\n",
              "      --hover-bg-color: #E2EBFA;\n",
              "      --hover-fill-color: #174EA6;\n",
              "      --disabled-fill-color: #AAA;\n",
              "      --disabled-bg-color: #DDD;\n",
              "  }\n",
              "\n",
              "  [theme=dark] .colab-df-quickchart {\n",
              "      --bg-color: #3B4455;\n",
              "      --fill-color: #D2E3FC;\n",
              "      --hover-bg-color: #434B5C;\n",
              "      --hover-fill-color: #FFFFFF;\n",
              "      --disabled-bg-color: #3B4455;\n",
              "      --disabled-fill-color: #666;\n",
              "  }\n",
              "\n",
              "  .colab-df-quickchart {\n",
              "    background-color: var(--bg-color);\n",
              "    border: none;\n",
              "    border-radius: 50%;\n",
              "    cursor: pointer;\n",
              "    display: none;\n",
              "    fill: var(--fill-color);\n",
              "    height: 32px;\n",
              "    padding: 0;\n",
              "    width: 32px;\n",
              "  }\n",
              "\n",
              "  .colab-df-quickchart:hover {\n",
              "    background-color: var(--hover-bg-color);\n",
              "    box-shadow: 0 1px 2px rgba(60, 64, 67, 0.3), 0 1px 3px 1px rgba(60, 64, 67, 0.15);\n",
              "    fill: var(--button-hover-fill-color);\n",
              "  }\n",
              "\n",
              "  .colab-df-quickchart-complete:disabled,\n",
              "  .colab-df-quickchart-complete:disabled:hover {\n",
              "    background-color: var(--disabled-bg-color);\n",
              "    fill: var(--disabled-fill-color);\n",
              "    box-shadow: none;\n",
              "  }\n",
              "\n",
              "  .colab-df-spinner {\n",
              "    border: 2px solid var(--fill-color);\n",
              "    border-color: transparent;\n",
              "    border-bottom-color: var(--fill-color);\n",
              "    animation:\n",
              "      spin 1s steps(1) infinite;\n",
              "  }\n",
              "\n",
              "  @keyframes spin {\n",
              "    0% {\n",
              "      border-color: transparent;\n",
              "      border-bottom-color: var(--fill-color);\n",
              "      border-left-color: var(--fill-color);\n",
              "    }\n",
              "    20% {\n",
              "      border-color: transparent;\n",
              "      border-left-color: var(--fill-color);\n",
              "      border-top-color: var(--fill-color);\n",
              "    }\n",
              "    30% {\n",
              "      border-color: transparent;\n",
              "      border-left-color: var(--fill-color);\n",
              "      border-top-color: var(--fill-color);\n",
              "      border-right-color: var(--fill-color);\n",
              "    }\n",
              "    40% {\n",
              "      border-color: transparent;\n",
              "      border-right-color: var(--fill-color);\n",
              "      border-top-color: var(--fill-color);\n",
              "    }\n",
              "    60% {\n",
              "      border-color: transparent;\n",
              "      border-right-color: var(--fill-color);\n",
              "    }\n",
              "    80% {\n",
              "      border-color: transparent;\n",
              "      border-right-color: var(--fill-color);\n",
              "      border-bottom-color: var(--fill-color);\n",
              "    }\n",
              "    90% {\n",
              "      border-color: transparent;\n",
              "      border-bottom-color: var(--fill-color);\n",
              "    }\n",
              "  }\n",
              "</style>\n",
              "\n",
              "      <script>\n",
              "        async function quickchart(key) {\n",
              "          const quickchartButtonEl =\n",
              "            document.querySelector('#' + key + ' button');\n",
              "          quickchartButtonEl.disabled = true;  // To prevent multiple clicks.\n",
              "          quickchartButtonEl.classList.add('colab-df-spinner');\n",
              "          try {\n",
              "            const charts = await google.colab.kernel.invokeFunction(\n",
              "                'suggestCharts', [key], {});\n",
              "          } catch (error) {\n",
              "            console.error('Error during call to suggestCharts:', error);\n",
              "          }\n",
              "          quickchartButtonEl.classList.remove('colab-df-spinner');\n",
              "          quickchartButtonEl.classList.add('colab-df-quickchart-complete');\n",
              "        }\n",
              "        (() => {\n",
              "          let quickchartButtonEl =\n",
              "            document.querySelector('#df-68c71b4a-1dee-48e8-ac2e-6d54408d493a button');\n",
              "          quickchartButtonEl.style.display =\n",
              "            google.colab.kernel.accessAllowed ? 'block' : 'none';\n",
              "        })();\n",
              "      </script>\n",
              "    </div>\n",
              "\n",
              "    </div>\n",
              "  </div>\n"
            ],
            "application/vnd.google.colaboratory.intrinsic+json": {
              "type": "dataframe",
              "summary": "{\n  \"name\": \"df\",\n  \"rows\": 4,\n  \"fields\": [\n    {\n      \"column\": \"company\",\n      \"properties\": {\n        \"dtype\": \"string\",\n        \"num_unique_values\": 4,\n        \"samples\": [\n          427,\n          \"24\",\n          \"735\"\n        ],\n        \"semantic_type\": \"\",\n        \"description\": \"\"\n      }\n    },\n    {\n      \"column\": \"location\",\n      \"properties\": {\n        \"dtype\": \"string\",\n        \"num_unique_values\": 4,\n        \"samples\": [\n          321,\n          \"62\",\n          \"735\"\n        ],\n        \"semantic_type\": \"\",\n        \"description\": \"\"\n      }\n    },\n    {\n      \"column\": \"positionName\",\n      \"properties\": {\n        \"dtype\": \"string\",\n        \"num_unique_values\": 4,\n        \"samples\": [\n          550,\n          \"45\",\n          \"735\"\n        ],\n        \"semantic_type\": \"\",\n        \"description\": \"\"\n      }\n    },\n    {\n      \"column\": \"description\",\n      \"properties\": {\n        \"dtype\": \"string\",\n        \"num_unique_values\": 4,\n        \"samples\": [\n          711,\n          \"2\",\n          \"735\"\n        ],\n        \"semantic_type\": \"\",\n        \"description\": \"\"\n      }\n    },\n    {\n      \"column\": \"salary\",\n      \"properties\": {\n        \"dtype\": \"string\",\n        \"num_unique_values\": 4,\n        \"samples\": [\n          385,\n          \"6\",\n          \"506\"\n        ],\n        \"semantic_type\": \"\",\n        \"description\": \"\"\n      }\n    },\n    {\n      \"column\": \"url\",\n      \"properties\": {\n        \"dtype\": \"string\",\n        \"num_unique_values\": 3,\n        \"samples\": [\n          \"735\",\n          \"https://www.indeed.com/viewjob?jk=e587a3d57c2e05e1\",\n          \"1\"\n        ],\n        \"semantic_type\": \"\",\n        \"description\": \"\"\n      }\n    },\n    {\n      \"column\": \"jobType/0\",\n      \"properties\": {\n        \"dtype\": \"string\",\n        \"num_unique_values\": 4,\n        \"samples\": [\n          6,\n          \"439\",\n          \"501\"\n        ],\n        \"semantic_type\": \"\",\n        \"description\": \"\"\n      }\n    },\n    {\n      \"column\": \"jobType/1\",\n      \"properties\": {\n        \"dtype\": \"string\",\n        \"num_unique_values\": 4,\n        \"samples\": [\n          4,\n          \"13\",\n          \"19\"\n        ],\n        \"semantic_type\": \"\",\n        \"description\": \"\"\n      }\n    },\n    {\n      \"column\": \"jobType/2\",\n      \"properties\": {\n        \"dtype\": \"string\",\n        \"num_unique_values\": 2,\n        \"samples\": [\n          \"Full-time\",\n          \"1\"\n        ],\n        \"semantic_type\": \"\",\n        \"description\": \"\"\n      }\n    },\n    {\n      \"column\": \"jobType/3\",\n      \"properties\": {\n        \"dtype\": \"string\",\n        \"num_unique_values\": 2,\n        \"samples\": [\n          \"Contract\",\n          \"1\"\n        ],\n        \"semantic_type\": \"\",\n        \"description\": \"\"\n      }\n    },\n    {\n      \"column\": \"searchInput/country\",\n      \"properties\": {\n        \"dtype\": \"string\",\n        \"num_unique_values\": 3,\n        \"samples\": [\n          \"735\",\n          1\n        ],\n        \"semantic_type\": \"\",\n        \"description\": \"\"\n      }\n    },\n    {\n      \"column\": \"searchInput/position\",\n      \"properties\": {\n        \"dtype\": \"string\",\n        \"num_unique_values\": 3,\n        \"samples\": [\n          \"735\",\n          1\n        ],\n        \"semantic_type\": \"\",\n        \"description\": \"\"\n      }\n    },\n    {\n      \"column\": \"externalApplyLink\",\n      \"properties\": {\n        \"dtype\": \"string\",\n        \"num_unique_values\": 4,\n        \"samples\": [\n          549,\n          \"2\"\n        ],\n        \"semantic_type\": \"\",\n        \"description\": \"\"\n      }\n    }\n  ]\n}"
            }
          },
          "metadata": {},
          "execution_count": 4
        }
      ]
    },
    {
      "cell_type": "code",
      "source": [
        "df.isna().sum()"
      ],
      "metadata": {
        "colab": {
          "base_uri": "https://localhost:8080/",
          "height": 523
        },
        "id": "OeEcrnvysys1",
        "outputId": "d912fcb6-0486-4540-dd7e-98aaa147c3de"
      },
      "execution_count": 5,
      "outputs": [
        {
          "output_type": "execute_result",
          "data": {
            "text/plain": [
              "company                   0\n",
              "rating                    0\n",
              "location                  0\n",
              "positionName              0\n",
              "description               0\n",
              "salary                  229\n",
              "url                       0\n",
              "jobType/0               234\n",
              "jobType/1               716\n",
              "jobType/2               734\n",
              "jobType/3               734\n",
              "searchInput/country       0\n",
              "searchInput/position      0\n",
              "externalApplyLink       182\n",
              "dtype: int64"
            ],
            "text/html": [
              "<div>\n",
              "<style scoped>\n",
              "    .dataframe tbody tr th:only-of-type {\n",
              "        vertical-align: middle;\n",
              "    }\n",
              "\n",
              "    .dataframe tbody tr th {\n",
              "        vertical-align: top;\n",
              "    }\n",
              "\n",
              "    .dataframe thead th {\n",
              "        text-align: right;\n",
              "    }\n",
              "</style>\n",
              "<table border=\"1\" class=\"dataframe\">\n",
              "  <thead>\n",
              "    <tr style=\"text-align: right;\">\n",
              "      <th></th>\n",
              "      <th>0</th>\n",
              "    </tr>\n",
              "  </thead>\n",
              "  <tbody>\n",
              "    <tr>\n",
              "      <th>company</th>\n",
              "      <td>0</td>\n",
              "    </tr>\n",
              "    <tr>\n",
              "      <th>rating</th>\n",
              "      <td>0</td>\n",
              "    </tr>\n",
              "    <tr>\n",
              "      <th>location</th>\n",
              "      <td>0</td>\n",
              "    </tr>\n",
              "    <tr>\n",
              "      <th>positionName</th>\n",
              "      <td>0</td>\n",
              "    </tr>\n",
              "    <tr>\n",
              "      <th>description</th>\n",
              "      <td>0</td>\n",
              "    </tr>\n",
              "    <tr>\n",
              "      <th>salary</th>\n",
              "      <td>229</td>\n",
              "    </tr>\n",
              "    <tr>\n",
              "      <th>url</th>\n",
              "      <td>0</td>\n",
              "    </tr>\n",
              "    <tr>\n",
              "      <th>jobType/0</th>\n",
              "      <td>234</td>\n",
              "    </tr>\n",
              "    <tr>\n",
              "      <th>jobType/1</th>\n",
              "      <td>716</td>\n",
              "    </tr>\n",
              "    <tr>\n",
              "      <th>jobType/2</th>\n",
              "      <td>734</td>\n",
              "    </tr>\n",
              "    <tr>\n",
              "      <th>jobType/3</th>\n",
              "      <td>734</td>\n",
              "    </tr>\n",
              "    <tr>\n",
              "      <th>searchInput/country</th>\n",
              "      <td>0</td>\n",
              "    </tr>\n",
              "    <tr>\n",
              "      <th>searchInput/position</th>\n",
              "      <td>0</td>\n",
              "    </tr>\n",
              "    <tr>\n",
              "      <th>externalApplyLink</th>\n",
              "      <td>182</td>\n",
              "    </tr>\n",
              "  </tbody>\n",
              "</table>\n",
              "</div><br><label><b>dtype:</b> int64</label>"
            ]
          },
          "metadata": {},
          "execution_count": 5
        }
      ]
    },
    {
      "cell_type": "code",
      "source": [
        "print(f\"Jumlah baris duplikat: {df.duplicated().sum()}\")\n"
      ],
      "metadata": {
        "colab": {
          "base_uri": "https://localhost:8080/"
        },
        "id": "jXtjDfXe_uKt",
        "outputId": "8bedec37-3b75-48e8-faf1-67418746d9c4"
      },
      "execution_count": 6,
      "outputs": [
        {
          "output_type": "stream",
          "name": "stdout",
          "text": [
            "Jumlah baris duplikat: 0\n"
          ]
        }
      ]
    },
    {
      "cell_type": "code",
      "source": [
        "df.dtypes\n"
      ],
      "metadata": {
        "colab": {
          "base_uri": "https://localhost:8080/",
          "height": 523
        },
        "id": "2GD9qs0IEuHl",
        "outputId": "fe3c7154-7a21-46bc-fb97-3d4dd6d8d5f3"
      },
      "execution_count": 7,
      "outputs": [
        {
          "output_type": "execute_result",
          "data": {
            "text/plain": [
              "company                  object\n",
              "rating                  float64\n",
              "location                 object\n",
              "positionName             object\n",
              "description              object\n",
              "salary                   object\n",
              "url                      object\n",
              "jobType/0                object\n",
              "jobType/1                object\n",
              "jobType/2                object\n",
              "jobType/3                object\n",
              "searchInput/country      object\n",
              "searchInput/position     object\n",
              "externalApplyLink        object\n",
              "dtype: object"
            ],
            "text/html": [
              "<div>\n",
              "<style scoped>\n",
              "    .dataframe tbody tr th:only-of-type {\n",
              "        vertical-align: middle;\n",
              "    }\n",
              "\n",
              "    .dataframe tbody tr th {\n",
              "        vertical-align: top;\n",
              "    }\n",
              "\n",
              "    .dataframe thead th {\n",
              "        text-align: right;\n",
              "    }\n",
              "</style>\n",
              "<table border=\"1\" class=\"dataframe\">\n",
              "  <thead>\n",
              "    <tr style=\"text-align: right;\">\n",
              "      <th></th>\n",
              "      <th>0</th>\n",
              "    </tr>\n",
              "  </thead>\n",
              "  <tbody>\n",
              "    <tr>\n",
              "      <th>company</th>\n",
              "      <td>object</td>\n",
              "    </tr>\n",
              "    <tr>\n",
              "      <th>rating</th>\n",
              "      <td>float64</td>\n",
              "    </tr>\n",
              "    <tr>\n",
              "      <th>location</th>\n",
              "      <td>object</td>\n",
              "    </tr>\n",
              "    <tr>\n",
              "      <th>positionName</th>\n",
              "      <td>object</td>\n",
              "    </tr>\n",
              "    <tr>\n",
              "      <th>description</th>\n",
              "      <td>object</td>\n",
              "    </tr>\n",
              "    <tr>\n",
              "      <th>salary</th>\n",
              "      <td>object</td>\n",
              "    </tr>\n",
              "    <tr>\n",
              "      <th>url</th>\n",
              "      <td>object</td>\n",
              "    </tr>\n",
              "    <tr>\n",
              "      <th>jobType/0</th>\n",
              "      <td>object</td>\n",
              "    </tr>\n",
              "    <tr>\n",
              "      <th>jobType/1</th>\n",
              "      <td>object</td>\n",
              "    </tr>\n",
              "    <tr>\n",
              "      <th>jobType/2</th>\n",
              "      <td>object</td>\n",
              "    </tr>\n",
              "    <tr>\n",
              "      <th>jobType/3</th>\n",
              "      <td>object</td>\n",
              "    </tr>\n",
              "    <tr>\n",
              "      <th>searchInput/country</th>\n",
              "      <td>object</td>\n",
              "    </tr>\n",
              "    <tr>\n",
              "      <th>searchInput/position</th>\n",
              "      <td>object</td>\n",
              "    </tr>\n",
              "    <tr>\n",
              "      <th>externalApplyLink</th>\n",
              "      <td>object</td>\n",
              "    </tr>\n",
              "  </tbody>\n",
              "</table>\n",
              "</div><br><label><b>dtype:</b> object</label>"
            ]
          },
          "metadata": {},
          "execution_count": 7
        }
      ]
    },
    {
      "cell_type": "code",
      "source": [
        "plt.figure(figsize=(8,5))\n",
        "sns.histplot(df['rating'].dropna(), bins=20, kde=True, color='teal')\n",
        "plt.title(\"Distribusi Rating Perusahaan\")\n",
        "plt.xlabel(\"Rating\")\n",
        "plt.ylabel(\"Jumlah Perusahaan\")\n",
        "plt.grid(True)\n",
        "plt.tight_layout()\n",
        "plt.show()"
      ],
      "metadata": {
        "colab": {
          "base_uri": "https://localhost:8080/",
          "height": 507
        },
        "id": "iVcvEx3MAF8o",
        "outputId": "8d67acac-8679-4791-9cc6-91fd9b48db1e"
      },
      "execution_count": 8,
      "outputs": [
        {
          "output_type": "display_data",
          "data": {
            "text/plain": [
              "<Figure size 800x500 with 1 Axes>"
            ],
            "image/png": "[encoded data removed]"
          },
          "metadata": {}
        }
      ]
    },
    {
      "cell_type": "code",
      "source": [
        "top_companies = df['company'].value_counts().head(10)\n",
        "\n",
        "plt.figure(figsize=(10,6))\n",
        "top_companies.plot(kind='bar', color='skyblue', edgecolor='black')\n",
        "plt.title('Top 10 Perusahaan yang Paling Banyak Posting Lowongan')\n",
        "plt.xlabel('Nama Perusahaan')\n",
        "plt.ylabel('Jumlah Lowongan')\n",
        "plt.xticks(rotation=45)\n",
        "plt.grid(axis='y', linestyle='--', alpha=0.7)\n",
        "plt.tight_layout()\n",
        "plt.show()"
      ],
      "metadata": {
        "colab": {
          "base_uri": "https://localhost:8080/",
          "height": 607
        },
        "id": "oEDxjkU3Atv4",
        "outputId": "950bc616-7c65-40f4-cc88-fc90b90035fc"
      },
      "execution_count": 9,
      "outputs": [
        {
          "output_type": "display_data",
          "data": {
            "text/plain": [
              "<Figure size 1000x600 with 1 Axes>"
            ],
            "image/png": "[encoded data removed]"
          },
          "metadata": {}
        }
      ]
    },
    {
      "cell_type": "code",
      "source": [
        "# kolom salary_num & panjang teks\n",
        "\n",
        "def extract_salary(s):\n",
        "    try:\n",
        "        numbers = re.findall(r'[\\d,]+', str(s))\n",
        "        if len(numbers) >= 1:\n",
        "            return int(numbers[0].replace(',', ''))\n",
        "    except:\n",
        "        return None\n",
        "    return None\n",
        "df['salary_num'] = df['salary'].apply(extract_salary)\n",
        "df['desc_len'] = df['description'].astype(str).apply(len)\n",
        "df['posname_len'] = df['positionName'].astype(str).apply(len)\n"
      ],
      "metadata": {
        "id": "kBaMWraJ8nqU"
      },
      "execution_count": 10,
      "outputs": []
    },
    {
      "cell_type": "markdown",
      "source": [
        "# **5. Data Preprocessing**"
      ],
      "metadata": {
        "id": "cpgHfgnSK3ip"
      }
    },
    {
      "cell_type": "markdown",
      "source": [
        "Pada tahap ini, data preprocessing adalah langkah penting untuk memastikan kualitas data sebelum digunakan dalam model machine learning.\n",
        "\n",
        "Jika Anda menggunakan data teks, data mentah sering kali mengandung nilai kosong, duplikasi, atau rentang nilai yang tidak konsisten, yang dapat memengaruhi kinerja model. Oleh karena itu, proses ini bertujuan untuk membersihkan dan mempersiapkan data agar analisis berjalan optimal.\n",
        "\n",
        "Berikut adalah tahapan-tahapan yang bisa dilakukan, tetapi **tidak terbatas** pada:\n",
        "1. Menghapus atau Menangani Data Kosong (Missing Values)\n",
        "2. Menghapus Data Duplikat\n",
        "3. Normalisasi atau Standarisasi Fitur\n",
        "4. Deteksi dan Penanganan Outlier\n",
        "5. Encoding Data Kategorikal\n",
        "6. Binning (Pengelompokan Data)\n",
        "\n",
        "Cukup sesuaikan dengan karakteristik data yang kamu gunakan yah. Khususnya ketika kami menggunakan data tidak terstruktur."
      ],
      "metadata": {
        "id": "COf8KUPXLg5r"
      }
    },
    {
      "cell_type": "markdown",
      "source": [
        "##mising value\n"
      ],
      "metadata": {
        "id": "pQhbA1JDGK4C"
      }
    },
    {
      "cell_type": "code",
      "source": [
        "df = df.dropna(subset=['salary'])  # kolom target harus ada\n",
        "job_cols = ['jobType/0', 'jobType/1', 'jobType/2', 'jobType/3']\n",
        "df[job_cols] = df[job_cols].fillna(False)\n",
        "df['externalApplyLink'] = df['externalApplyLink'].fillna('Unavailable')\n"
      ],
      "metadata": {
        "colab": {
          "base_uri": "https://localhost:8080/"
        },
        "id": "QesZlVwl7CCa",
        "outputId": "30de580f-d28d-4605-ad80-b7d5ddd26d46"
      },
      "execution_count": 11,
      "outputs": [
        {
          "output_type": "stream",
          "name": "stderr",
          "text": [
            "/tmp/ipython-input-11-2097358818.py:3: SettingWithCopyWarning: \n",
            "A value is trying to be set on a copy of a slice from a DataFrame.\n",
            "Try using .loc[row_indexer,col_indexer] = value instead\n",
            "\n",
            "See the caveats in the documentation: https://pandas.pydata.org/pandas-docs/stable/user_guide/indexing.html#returning-a-view-versus-a-copy\n",
            "  df[job_cols] = df[job_cols].fillna(False)\n",
            "/tmp/ipython-input-11-2097358818.py:4: SettingWithCopyWarning: \n",
            "A value is trying to be set on a copy of a slice from a DataFrame.\n",
            "Try using .loc[row_indexer,col_indexer] = value instead\n",
            "\n",
            "See the caveats in the documentation: https://pandas.pydata.org/pandas-docs/stable/user_guide/indexing.html#returning-a-view-versus-a-copy\n",
            "  df['externalApplyLink'] = df['externalApplyLink'].fillna('Unavailable')\n"
          ]
        }
      ]
    },
    {
      "cell_type": "markdown",
      "source": [
        "##duplikat\n"
      ],
      "metadata": {
        "id": "ZdG0_jbxGnWF"
      }
    },
    {
      "cell_type": "code",
      "source": [
        "df = df.drop_duplicates(subset=['company', 'positionName', 'location', 'salary', 'description'])\n"
      ],
      "metadata": {
        "id": "fq1GJlxYGpP9"
      },
      "execution_count": 12,
      "outputs": []
    },
    {
      "cell_type": "markdown",
      "source": [
        "##binning"
      ],
      "metadata": {
        "id": "bm27C8XfRDUC"
      }
    },
    {
      "cell_type": "code",
      "source": [
        "bins_salary = [0, 70000, 120000, 200000, df['salary_num'].max()]\n",
        "labels_salary = ['Low', 'Medium', 'High', 'Very High']\n",
        "df['salary_bin'] = pd.cut(df['salary_num'], bins=bins_salary, labels=labels_salary)\n",
        "\n",
        "bins_rating = [0, 2, 3.5, 4.5, 5]\n",
        "labels_rating = ['Poor', 'Average', 'Good', 'Excellent']\n",
        "df['rating_bin'] = pd.cut(df['rating'], bins=bins_rating, labels=labels_rating)\n",
        "\n",
        "df = df[df['rating_bin'].isin(['Good', 'Excellent'])].copy()\n",
        "df = df.dropna(subset=['salary_bin'])  # pastikan target tidak null\n"
      ],
      "metadata": {
        "id": "M-ceNHPrRIeX"
      },
      "execution_count": 13,
      "outputs": []
    },
    {
      "cell_type": "markdown",
      "source": [
        "##split data"
      ],
      "metadata": {
        "id": "OM_YORIW42tF"
      }
    },
    {
      "cell_type": "code",
      "source": [
        "from sklearn.model_selection import train_test_split\n",
        "\n",
        "y = df['salary_bin']\n",
        "X = df.drop(columns=['salary_bin'])\n",
        "\n",
        "X_train, X_test, y_train, y_test = train_test_split(\n",
        "    X, y, test_size=0.2, stratify=y, random_state=42\n",
        ")\n"
      ],
      "metadata": {
        "id": "3_a9_qJS9zH-"
      },
      "execution_count": 14,
      "outputs": []
    },
    {
      "cell_type": "markdown",
      "source": [
        "##Normalisasi atau Standarisasi Fitur"
      ],
      "metadata": {
        "id": "aSKjGlF5Ixg2"
      }
    },
    {
      "cell_type": "code",
      "source": [
        "cols_to_scale = ['rating', 'salary_num', 'desc_len', 'posname_len']\n",
        "scaler = StandardScaler()\n",
        "X_train[cols_to_scale] = scaler.fit_transform(X_train[cols_to_scale])\n",
        "X_test[cols_to_scale] = scaler.transform(X_test[cols_to_scale])\n"
      ],
      "metadata": {
        "id": "hSb4zSRMIzjE"
      },
      "execution_count": 15,
      "outputs": []
    },
    {
      "cell_type": "markdown",
      "source": [
        "##penanganan outlier"
      ],
      "metadata": {
        "id": "H5aVxzZmJfmt"
      }
    },
    {
      "cell_type": "code",
      "source": [
        "z_scores = X_train[cols_to_scale].apply(zscore)\n",
        "outliers = (z_scores.abs() > 3).any(axis=1)\n",
        "print(\"Jumlah outlier pada train set:\", outliers.sum())\n",
        "\n",
        "for col in cols_to_scale:\n",
        "    Q1 = X_train[col].quantile(0.25)\n",
        "    Q3 = X_train[col].quantile(0.75)\n",
        "    IQR = Q3 - Q1\n",
        "    lower = Q1 - 1.5 * IQR\n",
        "    upper = Q3 + 1.5 * IQR\n",
        "    X_train[col] = X_train[col].clip(lower, upper)\n"
      ],
      "metadata": {
        "id": "MyMonlpN_FZW",
        "outputId": "2a4f01a6-ed96-4b8d-f10b-25cba739facf",
        "colab": {
          "base_uri": "https://localhost:8080/"
        }
      },
      "execution_count": 16,
      "outputs": [
        {
          "output_type": "stream",
          "name": "stdout",
          "text": [
            "Jumlah outlier pada train set: 11\n"
          ]
        }
      ]
    },
    {
      "cell_type": "markdown",
      "source": [
        "##Encoding Data Kategorikal"
      ],
      "metadata": {
        "id": "ltVC9WsrQB0P"
      }
    },
    {
      "cell_type": "code",
      "source": [
        "cols_to_encode = [\n",
        "    'company',\n",
        "    'location',\n",
        "    'positionName',\n",
        "    'jobType/0',\n",
        "    'jobType/1',\n",
        "    'jobType/2',\n",
        "    'jobType/3',\n",
        "    'searchInput/country',\n",
        "    'searchInput/position'\n",
        "]\n",
        "\n",
        "X_train = pd.get_dummies(X_train, columns=cols_to_encode, drop_first=True)\n",
        "X_test = pd.get_dummies(X_test, columns=cols_to_encode, drop_first=True)\n",
        "\n",
        "X_test = X_test.reindex(columns=X_train.columns, fill_value=0)\n"
      ],
      "metadata": {
        "id": "suxi1L8DQDP4"
      },
      "execution_count": 17,
      "outputs": []
    }
  ]
}